{
  "nbformat": 4,
  "nbformat_minor": 0,
  "metadata": {
    "colab": {
      "name": "Untitled8.ipynb",
      "provenance": [],
      "authorship_tag": "ABX9TyPpbWjL2EdK6bw+67TLtfHF",
      "include_colab_link": true
    },
    "kernelspec": {
      "name": "python3",
      "display_name": "Python 3"
    }
  },
  "cells": [
    {
      "cell_type": "markdown",
      "metadata": {
        "id": "view-in-github",
        "colab_type": "text"
      },
      "source": [
        "<a href=\"https://colab.research.google.com/github/cihan063/Scrapheap/blob/master/log_sum_exp.ipynb\" target=\"_parent\"><img src=\"https://colab.research.google.com/assets/colab-badge.svg\" alt=\"Open In Colab\"/></a>"
      ]
    },
    {
      "cell_type": "code",
      "metadata": {
        "id": "Of0eI2g8Pypp",
        "colab_type": "code",
        "colab": {}
      },
      "source": [
        "arr = [2, 4 , 5]\n",
        "def exp1(arr):\n",
        "    i=0    \n",
        "    \n",
        "    tmp1=2.72\n",
        "    arr1=[]\n",
        "    for i in range(len(arr)):\n",
        "        tmp=2.72\n",
        "        for j in range(arr[i]-1):\n",
        "            tmp=tmp*tmp1\n",
        "        arr1.append(tmp)\n",
        "    return arr1\n",
        "\n",
        "def sum1(arr):\n",
        "    i=0\n",
        "    sum1=0\n",
        "    for i in range(len(arr)):\n",
        "        sum1=sum1+ arr[i]\n",
        "    return sum1\n",
        "\n",
        "def log_sum_exp(arr1):\n",
        "    exp = exp1(arr1)\n",
        "    sumx = sum1(exp)\n",
        "    logsumexp=0\n",
        "    while sumx >= 2.72:\n",
        "        logsumexp=logsumexp+1\n",
        "        sumx= sumx / 2.72\n",
        "    \n",
        "    logsumexp= logsumexp + (sumx/2.72)\n",
        "    \n",
        "    return logsumexp"
      ],
      "execution_count": 1,
      "outputs": []
    },
    {
      "cell_type": "code",
      "metadata": {
        "id": "uy33_0LnP0GO",
        "colab_type": "code",
        "colab": {
          "base_uri": "https://localhost:8080/",
          "height": 34
        },
        "outputId": "4fd7e4ca-4271-484c-dfa8-9c9c2feac0fb"
      },
      "source": [
        "log_sum_exp(arr)"
      ],
      "execution_count": 3,
      "outputs": [
        {
          "output_type": "execute_result",
          "data": {
            "text/plain": [
              "5.521080822861915"
            ]
          },
          "metadata": {
            "tags": []
          },
          "execution_count": 3
        }
      ]
    }
  ]
}