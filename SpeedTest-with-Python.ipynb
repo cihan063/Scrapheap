{
  "nbformat": 4,
  "nbformat_minor": 0,
  "metadata": {
    "colab": {
      "name": "InternetSpeed.ipynb",
      "provenance": [],
      "authorship_tag": "ABX9TyN+kA4RxpWPvPohxXMkQV4H",
      "include_colab_link": true
    },
    "kernelspec": {
      "name": "python3",
      "display_name": "Python 3"
    }
  },
  "cells": [
    {
      "cell_type": "markdown",
      "metadata": {
        "id": "view-in-github",
        "colab_type": "text"
      },
      "source": [
        "<a href=\"https://colab.research.google.com/github/cihan063/Scrapheap/blob/master/InternetSpeed.ipynb\" target=\"_parent\"><img src=\"https://colab.research.google.com/assets/colab-badge.svg\" alt=\"Open In Colab\"/></a>"
      ]
    },
    {
      "cell_type": "code",
      "metadata": {
        "id": "jtFt37AKNDEw"
      },
      "source": [
        "import psutil\n",
        "import speedtest\n",
        "from tabulate import tabulate"
      ],
      "execution_count": 6,
      "outputs": []
    },
    {
      "cell_type": "code",
      "metadata": {
        "id": "UQvQ0EnINNbf",
        "outputId": "3780eba1-175a-4b7b-ad68-c5a7414d6ea7",
        "colab": {
          "base_uri": "https://localhost:8080/"
        }
      },
      "source": [
        "class Network_Details(object):\n",
        "  def __init__(self):\n",
        "    self.parser = psutil.net_if_addrs()\n",
        "    self.speed_parser = speedtest.Speedtest()\n",
        "    self.interfaces = self.interface()[0]\n",
        "\n",
        "  def interface(self):\n",
        "    interfaces = []\n",
        "    for interface_name, _ in self.parser.items():\n",
        "      interfaces.append(str(interface_name))\n",
        "    return interfaces\n",
        "\n",
        "  def __repr__(self):\n",
        "    down = str(f\"{round(self.speed_parser.download()/1_000_000,2)} Mbps\")\n",
        "    up = str(f\"{round(self.speed_parser.upload()/1_000_000,2)} Mbps\")\n",
        "    interface = self.interfaces\n",
        "    data= {\n",
        "        \"Interface: \" : [interface],\n",
        "        \"Download: \" : [down], \n",
        "        \"Upload: \" : [up]\n",
        "    }\n",
        "    table = tabulate(data, headers=\"keys\", tablefmt=\"pretty\")\n",
        "    return table \n",
        "\n",
        "if __name__ == \"__main__\":\n",
        "  print(Network_Details())"
      ],
      "execution_count": 11,
      "outputs": [
        {
          "output_type": "stream",
          "text": [
            "+-------------+--------------+------------+\n",
            "| Interface:  |  Download:   |  Upload:   |\n",
            "+-------------+--------------+------------+\n",
            "|     lo      | 2478.65 Mbps | 870.5 Mbps |\n",
            "+-------------+--------------+------------+\n"
          ],
          "name": "stdout"
        }
      ]
    },
    {
      "cell_type": "code",
      "metadata": {
        "id": "6ZUJJ6zwPXBZ"
      },
      "source": [
        ""
      ],
      "execution_count": null,
      "outputs": []
    }
  ]
}
